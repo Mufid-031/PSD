{
 "cells": [
  {
   "cell_type": "markdown",
   "id": "38ce0e5c",
   "metadata": {},
   "source": [
    "## Bussiness Understanding"
   ]
  }
 ],
 "metadata": {
  "language_info": {
   "name": "python"
  }
 },
 "nbformat": 4,
 "nbformat_minor": 5
}
