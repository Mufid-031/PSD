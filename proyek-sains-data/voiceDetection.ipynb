{
 "cells": [
  {
   "cell_type": "code",
   "execution_count": 2,
   "id": "89b4f6d1",
   "metadata": {},
   "outputs": [],
   "source": [
    "import os\n",
    "import numpy as np\n",
    "import librosa\n",
    "from sklearn.model_selection import train_test_split\n",
    "from sklearn.preprocessing import StandardScaler\n",
    "from sklearn.neighbors import KNeighborsClassifier\n",
    "from sklearn.metrics import classification_report, accuracy_score"
   ]
  },
  {
   "cell_type": "code",
   "execution_count": 3,
   "id": "a2873122",
   "metadata": {},
   "outputs": [],
   "source": [
    "# === Folder data ===\n",
    "buka_path = \"data/voice/buka-voice\"\n",
    "tutup_path = \"data/voice/tutup-voice\"\n",
    "\n",
    "# === Fungsi ekstraksi fitur dari file suara ===\n",
    "def extract_features(file_path):\n",
    "    y, sr = librosa.load(file_path, sr=None)\n",
    "    mfcc = librosa.feature.mfcc(y=y, sr=sr, n_mfcc=13)\n",
    "    mfcc_mean = np.mean(mfcc.T, axis=0)\n",
    "    return mfcc_mean\n",
    "\n",
    "# === Persiapan data ===\n",
    "X, y = [], []\n",
    "\n",
    "for file in os.listdir(buka_path):\n",
    "    if file.endswith(\".mp3\"):\n",
    "        features = extract_features(os.path.join(buka_path, file))\n",
    "        X.append(features)\n",
    "        y.append(0)  # 0 untuk 'buka'\n",
    "\n",
    "for file in os.listdir(tutup_path):\n",
    "    if file.endswith(\".mp3\"):\n",
    "        features = extract_features(os.path.join(tutup_path, file))\n",
    "        X.append(features)\n",
    "        y.append(1)  # 1 untuk 'tutup'"
   ]
  },
  {
   "cell_type": "code",
   "execution_count": 4,
   "id": "2966bf72",
   "metadata": {},
   "outputs": [
    {
     "name": "stdout",
     "output_type": "stream",
     "text": [
      "Accuracy: 0.9512195121951219\n",
      "              precision    recall  f1-score   support\n",
      "\n",
      "           0       0.95      0.95      0.95        22\n",
      "           1       0.95      0.95      0.95        19\n",
      "\n",
      "    accuracy                           0.95        41\n",
      "   macro avg       0.95      0.95      0.95        41\n",
      "weighted avg       0.95      0.95      0.95        41\n",
      "\n"
     ]
    },
    {
     "data": {
      "text/plain": [
       "['scaler.pkl']"
      ]
     },
     "execution_count": 4,
     "metadata": {},
     "output_type": "execute_result"
    }
   ],
   "source": [
    "X = np.array(X)\n",
    "y = np.array(y)\n",
    "\n",
    "# === Split data untuk training dan testing ===\n",
    "X_train, X_test, y_train, y_test = train_test_split(X, y, test_size=0.2, random_state=42)\n",
    "\n",
    "# === Normalisasi ===\n",
    "scaler = StandardScaler()\n",
    "X_train = scaler.fit_transform(X_train)\n",
    "X_test = scaler.transform(X_test)\n",
    "\n",
    "# === Model KNN ===\n",
    "knn = KNeighborsClassifier(n_neighbors=3)\n",
    "knn.fit(X_train, y_train)\n",
    "\n",
    "# === Evaluasi ===\n",
    "y_pred = knn.predict(X_test)\n",
    "print(\"Accuracy:\", accuracy_score(y_test, y_pred))\n",
    "print(classification_report(y_test, y_pred))\n",
    "\n",
    "# === Simpan model & scaler jika ingin digunakan ulang ===\n",
    "import joblib\n",
    "joblib.dump(knn, \"model_knn_voice.pkl\")\n",
    "joblib.dump(scaler, \"scaler.pkl\")"
   ]
  },
  {
   "cell_type": "code",
   "execution_count": 14,
   "id": "e8a2675a",
   "metadata": {},
   "outputs": [
    {
     "name": "stdout",
     "output_type": "stream",
     "text": [
      "🎙️ Mulai merekam...\n",
      "✅ Rekaman selesai!\n",
      "Prediksi: TUTUP\n"
     ]
    }
   ],
   "source": [
    "import sounddevice as sd\n",
    "import wavio\n",
    "import joblib\n",
    "import librosa\n",
    "import numpy as np\n",
    "\n",
    "duration = 3  # durasi rekam dalam detik\n",
    "samplerate = 44100  # sample rate umum\n",
    "\n",
    "print(\"🎙️ Mulai merekam...\")\n",
    "recording = sd.rec(int(duration * samplerate), samplerate=samplerate, channels=1, dtype='float32')\n",
    "sd.wait()\n",
    "print(\"✅ Rekaman selesai!\")\n",
    "\n",
    "# Simpan hasil rekaman\n",
    "file_path = \"recorded.wav\"\n",
    "wavio.write(file_path, recording, samplerate, sampwidth=2)\n",
    "\n",
    "# Load model dan scaler\n",
    "model = joblib.load(\"model_knn_voice.pkl\")\n",
    "scaler = joblib.load(\"scaler.pkl\")\n",
    "\n",
    "# Ekstraksi fitur dan prediksi\n",
    "def extract_features(file_path):\n",
    "    y, sr = librosa.load(file_path, sr=None)\n",
    "    mfcc = librosa.feature.mfcc(y=y, sr=sr, n_mfcc=13)\n",
    "    return np.mean(mfcc.T, axis=0)\n",
    "\n",
    "features = extract_features(file_path).reshape(1, -1)\n",
    "features = scaler.transform(features)\n",
    "\n",
    "pred = model.predict(features)\n",
    "print(\"Prediksi:\", \"BUKA\" if pred[0] == 0 else \"TUTUP\")\n"
   ]
  }
 ],
 "metadata": {
  "kernelspec": {
   "display_name": "Python 3",
   "language": "python",
   "name": "python3"
  },
  "language_info": {
   "codemirror_mode": {
    "name": "ipython",
    "version": 3
   },
   "file_extension": ".py",
   "mimetype": "text/x-python",
   "name": "python",
   "nbconvert_exporter": "python",
   "pygments_lexer": "ipython3",
   "version": "3.11.9"
  }
 },
 "nbformat": 4,
 "nbformat_minor": 5
}
