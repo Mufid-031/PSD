{
 "cells": [
  {
   "cell_type": "markdown",
   "id": "afca75e9",
   "metadata": {},
   "source": [
    "### Ekplorasi Data\n",
    "\n",
    "#### Power BI\n",
    "\n",
    "Get data menggunakan script python di Power BI\n",
    "\n",
    "- Masuk Power BI\n",
    "- klik Get data > python script\n",
    "- paste code dibawah ini\n"
   ]
  },
  {
   "cell_type": "markdown",
   "id": "2fe9b230",
   "metadata": {},
   "source": [
    "#### Menghubungkan Power BI ke Database via Python Script\n",
    "\n",
    "Pastikan kamu sudah install:\n",
    "\n",
    "- `mysql-connector-python` (untuk MySQL)\n",
    "- `psycopg2` atau `sqlalchemy` (untuk PostgreSQL)\n",
    "- `pandas`\n",
    "- `dotenv`\n",
    "\n",
    "*Contoh Script untuk MySQL (Local)*"
   ]
  },
  {
   "cell_type": "code",
   "execution_count": 3,
   "id": "47fd42a9",
   "metadata": {},
   "outputs": [],
   "source": [
    "import pandas as pd\n",
    "from sqlalchemy import create_engine\n",
    "\n",
    "USER = \"root\"\n",
    "PASSWORD = \"\"\n",
    "HOST = \"localhost\"\n",
    "PORT = 3306\n",
    "DBNAME = \"iris_dataset\"\n",
    "\n",
    "# Buat koneksi ke MySQL (pakai driver PyMySQL)\n",
    "engine = create_engine(f\"mysql+pymysql://{USER}:{PASSWORD}@{HOST}:{PORT}/{DBNAME}\")\n",
    "\n",
    "# Query ke database MySQL\n",
    "query = \"SELECT * FROM iris;\"\n",
    "df = pd.read_sql(query, engine)\n",
    "\n",
    "dataset = df"
   ]
  },
  {
   "cell_type": "markdown",
   "id": "2b2d6310",
   "metadata": {},
   "source": [
    "*Contoh Script untuk PostgreSQL (Supabase)*"
   ]
  },
  {
   "cell_type": "code",
   "execution_count": 4,
   "id": "632809fc",
   "metadata": {},
   "outputs": [],
   "source": [
    "import pandas as pd\n",
    "from sqlalchemy import create_engine\n",
    "from dotenv import load_dotenv\n",
    "import os\n",
    "\n",
    "load_dotenv()\n",
    "\n",
    "USER = os.getenv(\"user\")\n",
    "PASSWORD = os.getenv(\"password\")\n",
    "HOST = os.getenv(\"host\")\n",
    "PORT = os.getenv(\"port\")\n",
    "DBNAME = os.getenv(\"dbname\")\n",
    "\n",
    "engine = create_engine(f\"postgresql+psycopg2://{USER}:{PASSWORD}@{HOST}:{PORT}/{DBNAME}\")\n",
    "\n",
    "query = \"SELECT * FROM iris;\"\n",
    "df = pd.read_sql(query, engine)\n",
    "\n",
    "dataset = df\n"
   ]
  },
  {
   "cell_type": "markdown",
   "id": "d0c80bdd",
   "metadata": {},
   "source": [
    "![gambar dari 2 database](images/image-from-2-database.png)"
   ]
  },
  {
   "cell_type": "markdown",
   "id": "b1640520",
   "metadata": {},
   "source": [
    "#### Proses Penggabungan\n",
    "\n",
    "Setelah data masuk ke Power BI (baik dari Python atau koneksi langsung DB), alurnya:\n",
    "\n",
    "- Masuk ke menu Transform\n",
    "\n",
    "![gambar dari transform menu](images/image-transform-menu.png)\n",
    "\n",
    "- Jika strukturnya sama (misalnya tabel transaksi MySQL dan PostgreSQL punya kolom yang sama), gunakan Append Queries → jadi satu tabel gabungan.\n",
    "- Jika hanya ingin join berdasarkan ID tertentu, gunakan Merge Queries (INNER JOIN, LEFT JOIN, dll).\n",
    "- Klik Close & Apply → data siap dianalisis di Power BI.\n",
    "\n",
    "![gambar dari transform menu](images/image-merge-queries.png)\n",
    "\n",
    "*Hasil Merge kedua table*\n",
    "\n",
    "![gambar dari transform menu](images/image-merged-table.png)"
   ]
  },
  {
   "cell_type": "markdown",
   "id": "00bda613",
   "metadata": {},
   "source": [
    "#### Konsep Outlier dengan KNN\n",
    "\n",
    "KNN (k-Nearest Neighbors) untuk deteksi outlier biasanya pakai pendekatan distance-based:\n",
    "\n",
    "- Setiap titik dihitung jaraknya ke tetangga terdekat.\n",
    "- Kalau jaraknya jauh dari mayoritas titik → dianggap outlier.\n",
    "- Metode populer: kNN Distance atau Local Outlier Factor (LOF).\n",
    "\n",
    "---"
   ]
  },
  {
   "cell_type": "markdown",
   "id": "bad21060",
   "metadata": {},
   "source": [
    "*Contoh code untuk Outlier Detection menggunakan KNN*"
   ]
  },
  {
   "cell_type": "code",
   "execution_count": 5,
   "id": "d144185f",
   "metadata": {},
   "outputs": [
    {
     "ename": "KeyError",
     "evalue": "\"['SepalLengthCm', 'SepalWidthCm'] not in index\"",
     "output_type": "error",
     "traceback": [
      "\u001b[31m---------------------------------------------------------------------------\u001b[39m",
      "\u001b[31mKeyError\u001b[39m                                  Traceback (most recent call last)",
      "\u001b[36mCell\u001b[39m\u001b[36m \u001b[39m\u001b[32mIn[5]\u001b[39m\u001b[32m, line 30\u001b[39m\n\u001b[32m     27\u001b[39m dataset = dataset.copy()\n\u001b[32m     29\u001b[39m \u001b[38;5;66;03m# Pilih fitur numerik\u001b[39;00m\n\u001b[32m---> \u001b[39m\u001b[32m30\u001b[39m X = \u001b[43mdataset\u001b[49m\u001b[43m[\u001b[49m\u001b[43m[\u001b[49m\u001b[33;43m'\u001b[39;49m\u001b[33;43mSepalLengthCm\u001b[39;49m\u001b[33;43m'\u001b[39;49m\u001b[43m,\u001b[49m\u001b[43m \u001b[49m\u001b[33;43m'\u001b[39;49m\u001b[33;43mSepalWidthCm\u001b[39;49m\u001b[33;43m'\u001b[39;49m\u001b[43m,\u001b[49m\u001b[43m \u001b[49m\u001b[33;43m'\u001b[39;49m\u001b[33;43mPetalLengthCm\u001b[39;49m\u001b[33;43m'\u001b[39;49m\u001b[43m,\u001b[49m\u001b[43m \u001b[49m\u001b[33;43m'\u001b[39;49m\u001b[33;43mPetalWidthCm\u001b[39;49m\u001b[33;43m'\u001b[39;49m\u001b[43m]\u001b[49m\u001b[43m]\u001b[49m\n\u001b[32m     32\u001b[39m \u001b[38;5;66;03m# KNN Outlier Detection (LOF)\u001b[39;00m\n\u001b[32m     33\u001b[39m lof = LocalOutlierFactor(n_neighbors=\u001b[32m20\u001b[39m, contamination=\u001b[32m0.05\u001b[39m)  \u001b[38;5;66;03m# contamination=5% dianggap outlier\u001b[39;00m\n",
      "\u001b[36mFile \u001b[39m\u001b[32mc:\\Users\\risqi\\AppData\\Local\\Programs\\Python\\Python311\\Lib\\site-packages\\pandas\\core\\frame.py:3899\u001b[39m, in \u001b[36mDataFrame.__getitem__\u001b[39m\u001b[34m(self, key)\u001b[39m\n\u001b[32m   3897\u001b[39m     \u001b[38;5;28;01mif\u001b[39;00m is_iterator(key):\n\u001b[32m   3898\u001b[39m         key = \u001b[38;5;28mlist\u001b[39m(key)\n\u001b[32m-> \u001b[39m\u001b[32m3899\u001b[39m     indexer = \u001b[38;5;28;43mself\u001b[39;49m\u001b[43m.\u001b[49m\u001b[43mcolumns\u001b[49m\u001b[43m.\u001b[49m\u001b[43m_get_indexer_strict\u001b[49m\u001b[43m(\u001b[49m\u001b[43mkey\u001b[49m\u001b[43m,\u001b[49m\u001b[43m \u001b[49m\u001b[33;43m\"\u001b[39;49m\u001b[33;43mcolumns\u001b[39;49m\u001b[33;43m\"\u001b[39;49m\u001b[43m)\u001b[49m[\u001b[32m1\u001b[39m]\n\u001b[32m   3901\u001b[39m \u001b[38;5;66;03m# take() does not accept boolean indexers\u001b[39;00m\n\u001b[32m   3902\u001b[39m \u001b[38;5;28;01mif\u001b[39;00m \u001b[38;5;28mgetattr\u001b[39m(indexer, \u001b[33m\"\u001b[39m\u001b[33mdtype\u001b[39m\u001b[33m\"\u001b[39m, \u001b[38;5;28;01mNone\u001b[39;00m) == \u001b[38;5;28mbool\u001b[39m:\n",
      "\u001b[36mFile \u001b[39m\u001b[32mc:\\Users\\risqi\\AppData\\Local\\Programs\\Python\\Python311\\Lib\\site-packages\\pandas\\core\\indexes\\base.py:6115\u001b[39m, in \u001b[36mIndex._get_indexer_strict\u001b[39m\u001b[34m(self, key, axis_name)\u001b[39m\n\u001b[32m   6112\u001b[39m \u001b[38;5;28;01melse\u001b[39;00m:\n\u001b[32m   6113\u001b[39m     keyarr, indexer, new_indexer = \u001b[38;5;28mself\u001b[39m._reindex_non_unique(keyarr)\n\u001b[32m-> \u001b[39m\u001b[32m6115\u001b[39m \u001b[38;5;28;43mself\u001b[39;49m\u001b[43m.\u001b[49m\u001b[43m_raise_if_missing\u001b[49m\u001b[43m(\u001b[49m\u001b[43mkeyarr\u001b[49m\u001b[43m,\u001b[49m\u001b[43m \u001b[49m\u001b[43mindexer\u001b[49m\u001b[43m,\u001b[49m\u001b[43m \u001b[49m\u001b[43maxis_name\u001b[49m\u001b[43m)\u001b[49m\n\u001b[32m   6117\u001b[39m keyarr = \u001b[38;5;28mself\u001b[39m.take(indexer)\n\u001b[32m   6118\u001b[39m \u001b[38;5;28;01mif\u001b[39;00m \u001b[38;5;28misinstance\u001b[39m(key, Index):\n\u001b[32m   6119\u001b[39m     \u001b[38;5;66;03m# GH 42790 - Preserve name from an Index\u001b[39;00m\n",
      "\u001b[36mFile \u001b[39m\u001b[32mc:\\Users\\risqi\\AppData\\Local\\Programs\\Python\\Python311\\Lib\\site-packages\\pandas\\core\\indexes\\base.py:6179\u001b[39m, in \u001b[36mIndex._raise_if_missing\u001b[39m\u001b[34m(self, key, indexer, axis_name)\u001b[39m\n\u001b[32m   6176\u001b[39m     \u001b[38;5;28;01mraise\u001b[39;00m \u001b[38;5;167;01mKeyError\u001b[39;00m(\u001b[33mf\u001b[39m\u001b[33m\"\u001b[39m\u001b[33mNone of [\u001b[39m\u001b[38;5;132;01m{\u001b[39;00mkey\u001b[38;5;132;01m}\u001b[39;00m\u001b[33m] are in the [\u001b[39m\u001b[38;5;132;01m{\u001b[39;00maxis_name\u001b[38;5;132;01m}\u001b[39;00m\u001b[33m]\u001b[39m\u001b[33m\"\u001b[39m)\n\u001b[32m   6178\u001b[39m not_found = \u001b[38;5;28mlist\u001b[39m(ensure_index(key)[missing_mask.nonzero()[\u001b[32m0\u001b[39m]].unique())\n\u001b[32m-> \u001b[39m\u001b[32m6179\u001b[39m \u001b[38;5;28;01mraise\u001b[39;00m \u001b[38;5;167;01mKeyError\u001b[39;00m(\u001b[33mf\u001b[39m\u001b[33m\"\u001b[39m\u001b[38;5;132;01m{\u001b[39;00mnot_found\u001b[38;5;132;01m}\u001b[39;00m\u001b[33m not in index\u001b[39m\u001b[33m\"\u001b[39m)\n",
      "\u001b[31mKeyError\u001b[39m: \"['SepalLengthCm', 'SepalWidthCm'] not in index\""
     ]
    }
   ],
   "source": [
    "# The following code to create a dataframe and remove duplicated rows is always executed and acts as a preamble for your script: \n",
    "\n",
    "# dataset = pandas.DataFrame(iris_merged.PetalLengthCm, Id, iris_merged.PetalWidthCm, SepalLengthCm, SepalWidthCm)\n",
    "# dataset = dataset.drop_duplicates()\n",
    "\n",
    "# Paste or type your script code here:\n",
    "import pandas as pd\n",
    "import numpy as np\n",
    "import matplotlib.pyplot as plt\n",
    "from sklearn.neighbors import LocalOutlierFactor\n",
    "\n",
    "# Copy dataset dari Power BI\n",
    "import pandas as pd\n",
    "import matplotlib.pyplot as plt\n",
    "from sklearn.model_selection import train_test_split\n",
    "from sklearn.neighbors import KNeighborsClassifier\n",
    "from sklearn.metrics import classification_report, confusion_matrix\n",
    "from sklearn.decomposition import PCA\n",
    "\n",
    "# Copy dataset dari Power BI\n",
    "import pandas as pd\n",
    "import matplotlib.pyplot as plt\n",
    "from sklearn.neighbors import LocalOutlierFactor\n",
    "from sklearn.decomposition import PCA\n",
    "\n",
    "# Copy dataset Power BI\n",
    "dataset = dataset.copy()\n",
    "\n",
    "# Pilih fitur numerik\n",
    "X = dataset[['SepalLengthCm', 'SepalWidthCm', 'PetalLengthCm', 'PetalWidthCm']]\n",
    "\n",
    "# KNN Outlier Detection (LOF)\n",
    "lof = LocalOutlierFactor(n_neighbors=20, contamination=0.05)  # contamination=5% dianggap outlier\n",
    "y_pred = lof.fit_predict(X)\n",
    "\n",
    "# Tambah kolom hasil ke dataset\n",
    "dataset['outlier'] = y_pred  # -1 = outlier, 1 = normal\n",
    "\n",
    "# PCA untuk visualisasi\n",
    "pca = PCA(n_components=2)\n",
    "X_pca = pca.fit_transform(X)\n",
    "\n",
    "plt.figure(figsize=(6,4))\n",
    "plt.scatter(\n",
    "    X_pca[:,0],\n",
    "    X_pca[:,1],\n",
    "    c=dataset['outlier'],\n",
    "    cmap='coolwarm',\n",
    "    edgecolor='k'\n",
    ")\n",
    "plt.xlabel(\"PCA 1\")\n",
    "plt.ylabel(\"PCA 2\")\n",
    "plt.title(\"Outlier Detection dengan KNN (LOF)\")\n",
    "plt.show()\n"
   ]
  },
  {
   "cell_type": "markdown",
   "id": "95641843",
   "metadata": {},
   "source": [
    "*Contoh code K-Means clustering*"
   ]
  },
  {
   "cell_type": "code",
   "execution_count": null,
   "id": "119cc437",
   "metadata": {},
   "outputs": [],
   "source": [
    "# The following code to create a dataframe and remove duplicated rows is always executed and acts as a preamble for your script: \n",
    "\n",
    "# dataset = pandas.DataFrame(iris_from_postgresql.PetalLengthCm, iris_from_postgresql.PetalWidthCm, SepalLengthCm, SepalWidthCm)\n",
    "# dataset = dataset.drop_duplicates()\n",
    "\n",
    "# Paste or type your script code here:\n",
    "import pandas as pd\n",
    "import matplotlib.pyplot as plt\n",
    "from sklearn.cluster import KMeans\n",
    "from sklearn.decomposition import PCA\n",
    "\n",
    "# Copy dataset dari Power BI\n",
    "import pandas as pd\n",
    "import matplotlib.pyplot as plt\n",
    "from sklearn.cluster import KMeans\n",
    "from sklearn.decomposition import PCA\n",
    "\n",
    "# Copy dataset dari Power BI\n",
    "dataset = dataset.copy()\n",
    "\n",
    "# Pilih fitur (pakai semua fitur kalau sudah ada di dataset)\n",
    "X = dataset[['SepalLengthCm', 'SepalWidthCm', 'PetalLengthCm', 'PetalWidthCm']]\n",
    "\n",
    "# K-Means clustering (3 cluster)\n",
    "kmeans = KMeans(n_clusters=3, random_state=42, n_init=10)\n",
    "dataset['cluster'] = kmeans.fit_predict(X)\n",
    "\n",
    "# PCA untuk reduksi dimensi ke 2D\n",
    "pca = PCA(n_components=2)\n",
    "X_pca = pca.fit_transform(X)\n",
    "dataset['pca1'] = X_pca[:, 0]\n",
    "dataset['pca2'] = X_pca[:, 1]\n",
    "\n",
    "# Plot\n",
    "plt.figure(figsize=(6,4))\n",
    "plt.scatter(\n",
    "    dataset['pca1'],\n",
    "    dataset['pca2'],\n",
    "    c=dataset['cluster'],\n",
    "    cmap='viridis',\n",
    "    edgecolor='k'\n",
    ")\n",
    "plt.xlabel(\"PCA 1\")\n",
    "plt.ylabel(\"PCA 2\")\n",
    "plt.title(\"Clustering Iris dengan K-Means\")\n",
    "plt.show()\n"
   ]
  },
  {
   "cell_type": "markdown",
   "id": "1f7e731a",
   "metadata": {},
   "source": [
    "*Hasil Python Visualisasi*"
   ]
  },
  {
   "cell_type": "markdown",
   "id": "14f066fb",
   "metadata": {},
   "source": [
    "![gambar dari transform menu](images/image-visual-knn-outlier-and-kmean.png)"
   ]
  }
 ],
 "metadata": {
  "kernelspec": {
   "display_name": "Python 3",
   "language": "python",
   "name": "python3"
  },
  "language_info": {
   "codemirror_mode": {
    "name": "ipython",
    "version": 3
   },
   "file_extension": ".py",
   "mimetype": "text/x-python",
   "name": "python",
   "nbconvert_exporter": "python",
   "pygments_lexer": "ipython3",
   "version": "3.11.9"
  }
 },
 "nbformat": 4,
 "nbformat_minor": 5
}
