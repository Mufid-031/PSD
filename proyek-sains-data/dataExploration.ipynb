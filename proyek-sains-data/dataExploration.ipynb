{
 "cells": [
  {
   "cell_type": "markdown",
   "id": "afca75e9",
   "metadata": {},
   "source": [
    "### Ekplorasi Data (dengan Power BI)\n",
    "\n",
    "Get data menggunakan script python di Power BI\n",
    "\n",
    "- Masuk Power BI\n",
    "- klik Get data > python script\n",
    "- paste code dibawah ini\n"
   ]
  },
  {
   "cell_type": "markdown",
   "id": "2fe9b230",
   "metadata": {},
   "source": [
    "#### Menghubungkan Power BI ke Database via Python Script\n",
    "\n",
    "Pastikan kamu sudah install:\n",
    "\n",
    "- `mysql-connector-python` (untuk MySQL)\n",
    "- `psycopg2` atau `sqlalchemy` (untuk PostgreSQL)\n",
    "- `pandas`\n",
    "- `dotenv`\n",
    "\n",
    "*Contoh Script untuk MySQL (Local)*"
   ]
  },
  {
   "cell_type": "code",
   "execution_count": 1,
   "id": "47fd42a9",
   "metadata": {},
   "outputs": [],
   "source": [
    "import pandas as pd\n",
    "from sqlalchemy import create_engine\n",
    "\n",
    "USER = \"root\"\n",
    "PASSWORD = \"\"\n",
    "HOST = \"localhost\"\n",
    "PORT = 3306\n",
    "DBNAME = \"iris_dataset\"\n",
    "\n",
    "# Buat koneksi ke MySQL (pakai driver PyMySQL)\n",
    "engine = create_engine(f\"mysql+pymysql://{USER}:{PASSWORD}@{HOST}:{PORT}/{DBNAME}\")\n",
    "\n",
    "# Query ke database MySQL\n",
    "query = \"SELECT * FROM iris;\"\n",
    "df = pd.read_sql(query, engine)\n",
    "\n",
    "dataset = df"
   ]
  },
  {
   "cell_type": "markdown",
   "id": "2b2d6310",
   "metadata": {},
   "source": [
    "*Contoh Script untuk PostgreSQL (Supabase)*"
   ]
  },
  {
   "cell_type": "code",
   "execution_count": null,
   "id": "632809fc",
   "metadata": {},
   "outputs": [],
   "source": [
    "import pandas as pd\n",
    "from sqlalchemy import create_engine\n",
    "from dotenv import load_dotenv\n",
    "import os\n",
    "\n",
    "load_dotenv()\n",
    "\n",
    "USER = os.getenv(\"user\")\n",
    "PASSWORD = os.getenv(\"password\")\n",
    "HOST = os.getenv(\"host\")\n",
    "PORT = os.getenv(\"port\")\n",
    "DBNAME = os.getenv(\"dbname\")\n",
    "\n",
    "engine = create_engine(f\"postgresql+psycopg2://{USER}:{PASSWORD}@{HOST}:{PORT}/{DBNAME}\")\n",
    "\n",
    "query = \"SELECT * FROM iris;\"\n",
    "df = pd.read_sql(query, engine)\n",
    "\n",
    "dataset = df\n"
   ]
  },
  {
   "cell_type": "markdown",
   "id": "d0c80bdd",
   "metadata": {},
   "source": [
    "![gambar dari 2 database](images/image-from-2-database.png)"
   ]
  },
  {
   "cell_type": "markdown",
   "id": "b1640520",
   "metadata": {},
   "source": [
    "#### Proses Penggabungan\n",
    "\n",
    "Setelah data masuk ke Power BI (baik dari Python atau koneksi langsung DB), alurnya:\n",
    "\n",
    "- Masuk ke menu Transform\n",
    "\n",
    "![gambar dari transform menu](images/image-transform-menu.png)\n",
    "\n",
    "- Jika strukturnya sama (misalnya tabel transaksi MySQL dan PostgreSQL punya kolom yang sama), gunakan Append Queries → jadi satu tabel gabungan.\n",
    "- Jika hanya ingin join berdasarkan ID tertentu, gunakan Merge Queries (INNER JOIN, LEFT JOIN, dll).\n",
    "- Klik Close & Apply → data siap dianalisis di Power BI.\n",
    "\n",
    "![gambar dari transform menu](images/image-merge-queries.png)\n",
    "\n",
    "*Hasil Merge kedua table*\n",
    "\n",
    "![gambar dari transform menu](images/image-merged-table.png)"
   ]
  },
  {
   "cell_type": "markdown",
   "id": "00bda613",
   "metadata": {},
   "source": [
    "#### Konsep Outlier dengan KNN\n",
    "\n",
    "KNN (k-Nearest Neighbors) untuk deteksi outlier biasanya pakai pendekatan distance-based:\n",
    "\n",
    "- Setiap titik dihitung jaraknya ke tetangga terdekat.\n",
    "- Kalau jaraknya jauh dari mayoritas titik → dianggap outlier.\n",
    "- Metode populer: kNN Distance atau Local Outlier Factor (LOF).\n",
    "\n",
    "---"
   ]
  },
  {
   "cell_type": "markdown",
   "id": "bad21060",
   "metadata": {},
   "source": [
    "*Contoh code untuk Outlier Detection menggunakan KNN*"
   ]
  },
  {
   "cell_type": "code",
   "execution_count": null,
   "id": "d144185f",
   "metadata": {},
   "outputs": [],
   "source": [
    "# The following code to create a dataframe and remove duplicated rows is always executed and acts as a preamble for your script: \n",
    "\n",
    "# dataset = pandas.DataFrame(iris_merged.PetalLengthCm, Id, iris_merged.PetalWidthCm, SepalLengthCm, SepalWidthCm)\n",
    "# dataset = dataset.drop_duplicates()\n",
    "\n",
    "# Paste or type your script code here:\n",
    "import pandas as pd\n",
    "import numpy as np\n",
    "import matplotlib.pyplot as plt\n",
    "from sklearn.neighbors import LocalOutlierFactor\n",
    "\n",
    "# Copy dataset dari Power BI\n",
    "import pandas as pd\n",
    "import matplotlib.pyplot as plt\n",
    "from sklearn.model_selection import train_test_split\n",
    "from sklearn.neighbors import KNeighborsClassifier\n",
    "from sklearn.metrics import classification_report, confusion_matrix\n",
    "from sklearn.decomposition import PCA\n",
    "\n",
    "# Copy dataset dari Power BI\n",
    "import pandas as pd\n",
    "import matplotlib.pyplot as plt\n",
    "from sklearn.neighbors import LocalOutlierFactor\n",
    "from sklearn.decomposition import PCA\n",
    "\n",
    "# Copy dataset Power BI\n",
    "dataset = dataset.copy()\n",
    "\n",
    "# Pilih fitur numerik\n",
    "X = dataset[['SepalLengthCm', 'SepalWidthCm', 'PetalLengthCm', 'PetalWidthCm']]\n",
    "\n",
    "# KNN Outlier Detection (LOF)\n",
    "lof = LocalOutlierFactor(n_neighbors=20, contamination=0.05)  # contamination=5% dianggap outlier\n",
    "y_pred = lof.fit_predict(X)\n",
    "\n",
    "# Tambah kolom hasil ke dataset\n",
    "dataset['outlier'] = y_pred  # -1 = outlier, 1 = normal\n",
    "\n",
    "# PCA untuk visualisasi\n",
    "pca = PCA(n_components=2)\n",
    "X_pca = pca.fit_transform(X)\n",
    "\n",
    "plt.figure(figsize=(6,4))\n",
    "plt.scatter(\n",
    "    X_pca[:,0],\n",
    "    X_pca[:,1],\n",
    "    c=dataset['outlier'],\n",
    "    cmap='coolwarm',\n",
    "    edgecolor='k'\n",
    ")\n",
    "plt.xlabel(\"PCA 1\")\n",
    "plt.ylabel(\"PCA 2\")\n",
    "plt.title(\"Outlier Detection dengan KNN (LOF)\")\n",
    "plt.show()\n"
   ]
  },
  {
   "cell_type": "markdown",
   "id": "95641843",
   "metadata": {},
   "source": [
    "*Contoh code K-Means clustering*"
   ]
  },
  {
   "cell_type": "code",
   "execution_count": null,
   "id": "119cc437",
   "metadata": {},
   "outputs": [],
   "source": [
    "# The following code to create a dataframe and remove duplicated rows is always executed and acts as a preamble for your script: \n",
    "\n",
    "# dataset = pandas.DataFrame(iris_from_postgresql.PetalLengthCm, iris_from_postgresql.PetalWidthCm, SepalLengthCm, SepalWidthCm)\n",
    "# dataset = dataset.drop_duplicates()\n",
    "\n",
    "# Paste or type your script code here:\n",
    "import pandas as pd\n",
    "import matplotlib.pyplot as plt\n",
    "from sklearn.cluster import KMeans\n",
    "from sklearn.decomposition import PCA\n",
    "\n",
    "# Copy dataset dari Power BI\n",
    "import pandas as pd\n",
    "import matplotlib.pyplot as plt\n",
    "from sklearn.cluster import KMeans\n",
    "from sklearn.decomposition import PCA\n",
    "\n",
    "# Copy dataset dari Power BI\n",
    "dataset = dataset.copy()\n",
    "\n",
    "# Pilih fitur (pakai semua fitur kalau sudah ada di dataset)\n",
    "X = dataset[['SepalLengthCm', 'SepalWidthCm', 'PetalLengthCm', 'PetalWidthCm']]\n",
    "\n",
    "# K-Means clustering (3 cluster)\n",
    "kmeans = KMeans(n_clusters=3, random_state=42, n_init=10)\n",
    "dataset['cluster'] = kmeans.fit_predict(X)\n",
    "\n",
    "# PCA untuk reduksi dimensi ke 2D\n",
    "pca = PCA(n_components=2)\n",
    "X_pca = pca.fit_transform(X)\n",
    "dataset['pca1'] = X_pca[:, 0]\n",
    "dataset['pca2'] = X_pca[:, 1]\n",
    "\n",
    "# Plot\n",
    "plt.figure(figsize=(6,4))\n",
    "plt.scatter(\n",
    "    dataset['pca1'],\n",
    "    dataset['pca2'],\n",
    "    c=dataset['cluster'],\n",
    "    cmap='viridis',\n",
    "    edgecolor='k'\n",
    ")\n",
    "plt.xlabel(\"PCA 1\")\n",
    "plt.ylabel(\"PCA 2\")\n",
    "plt.title(\"Clustering Iris dengan K-Means\")\n",
    "plt.show()\n"
   ]
  },
  {
   "cell_type": "markdown",
   "id": "1f7e731a",
   "metadata": {},
   "source": [
    "*Hasil Python Visualisasi*"
   ]
  },
  {
   "cell_type": "markdown",
   "id": "14f066fb",
   "metadata": {},
   "source": [
    "![gambar dari transform menu](images/image-visual-knn-outlier-and-kmean.png)"
   ]
  }
 ],
 "metadata": {
  "kernelspec": {
   "display_name": "Python 3",
   "language": "python",
   "name": "python3"
  },
  "language_info": {
   "codemirror_mode": {
    "name": "ipython",
    "version": 3
   },
   "file_extension": ".py",
   "mimetype": "text/x-python",
   "name": "python",
   "nbconvert_exporter": "python",
   "pygments_lexer": "ipython3",
   "version": "3.11.9"
  }
 },
 "nbformat": 4,
 "nbformat_minor": 5
}
