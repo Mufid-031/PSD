{
 "cells": [
  {
   "cell_type": "markdown",
   "id": "eb1cf346",
   "metadata": {},
   "source": [
    "# Data Understanding\n",
    "\n",
    "### Apa Itu Data Understanding?\n",
    "\n",
    "**Data Understanding** (Pemahaman Data) adalah tahap kedua dalam metodologi CRISP-DM (Cross-Industry Standard Process for Data Mining) dan merupakan fase kritis dalam siklus hidup data science atau analisis data apa pun. Ini adalah proses mendalam untuk mengenali karakteristik, kualitas, dan pola awal dari data yang telah dikumpulkan sebelum melakukan pemrosesan lebih lanjut, pemodelan, atau pengambilan keputusan.\n",
    "\n",
    "Intinya, Data Understanding adalah upaya untuk \"berkenalan\" dengan data Anda. Seperti seorang detektif yang memeriksa semua bukti sebelum menyelesaikan kasus, seorang analis data harus sepenuhnya memahami data mereka sebelum dapat menarik wawasan yang valid darinya.\n",
    "\n",
    "---"
   ]
  },
  {
   "cell_type": "markdown",
   "id": "f4805072",
   "metadata": {},
   "source": [
    "### Pentingnya Memahami Data yang Kita Ambil\n",
    "\n",
    "Memahami data bukanlah langkah formalitas, tetapi fondasi dari seluruh analisis. Kesalahan dalam memahami data akan berakibat fatal pada tahap selanjutnya.\n",
    "\n",
    "1. Menghindari Kesimpulan yang Salah (Garbage In, Garbage Out): Jika data tidak dipahami dengan benar, model atau analisis yang dihasilkan akan cacat dan kesimpulan yang ditarik bisa menyesatkan.\n",
    "\n",
    "2. Memilih Teknik Analisis yang Tepat: Jenis data yang berbeda (numerik, kategorikal) memerlukan teknik statistik, visualisasi, dan algoritma machine learning yang berbeda. Memahami jenis variabel membantu memilih metode yang tepat.\n",
    "\n",
    "3. Mengidentifikasi Masalah Data Lebih Awal: Tahap ini memungkinkan kita menemukan anomali seperti data yang hilang (missing values), outlier (nilai ekstrem), atau ketidakkonsistenan sejak dini, sehingga dapat ditangani sebelum analisis.\n",
    "\n",
    "4. Membangun Hipotesis yang Bermakna: Dengan mengeksplorasi data, kita dapat mulai melihat pola, hubungan, dan tren yang dapat membentuk pertanyaan penelitian atau hipotesis yang lebih terfokus.\n",
    "\n",
    "5. Mengkomunikasikan Temuan dengan Efektif: Pemahaman yang mendalam tentang data memungkinkan analis untuk menjelaskan hasil dan keterbatasan analisis kepada pemangku kepentingan (stakeholders) dengan lebih jelas dan meyakinkan.\n",
    "\n",
    "---"
   ]
  },
  {
   "cell_type": "markdown",
   "id": "fc6b69ef",
   "metadata": {},
   "source": [
    "### Observasi dari Data dan Jenis-Jenis Variabel\n",
    "\n",
    "Saat pertama kali melihat sebuah dataset, kita melakukan observasi untuk mengidentifikasi jenis setiap variabel (kolom). Klasifikasi variabel sangat penting.\n",
    "\n",
    "---"
   ]
  },
  {
   "cell_type": "markdown",
   "id": "908b3115",
   "metadata": {},
   "source": [
    "### Koneksi ke Supabase"
   ]
  },
  {
   "cell_type": "code",
   "execution_count": null,
   "id": "1c751d12",
   "metadata": {},
   "outputs": [],
   "source": [
    "# ================================\n",
    "# 1. Import Library\n",
    "# ================================\n",
    "\n",
    "import psycopg2\n",
    "import pandas as pd\n",
    "import matplotlib.pyplot as plt\n",
    "import seaborn as sns\n",
    "from sklearn.preprocessing import LabelEncoder\n",
    "import os\n",
    "from dotenv import load_dotenv\n",
    "\n",
    "sns.set(style='whitegrid')"
   ]
  },
  {
   "cell_type": "code",
   "execution_count": null,
   "id": "1d3c6bc9",
   "metadata": {},
   "outputs": [
    {
     "name": "stdout",
     "output_type": "stream",
     "text": [
      "✅ Connection successful!\n",
      "✅ Data berhasil diimport ke Supabase\n"
     ]
    }
   ],
   "source": [
    "# ================================\n",
    "# 2. Connect to Supabase, create table and insert data from csv file\n",
    "# ================================\n",
    "\n",
    "# Load environment variables\n",
    "load_dotenv()\n",
    "\n",
    "USER = os.getenv(\"user\")\n",
    "PASSWORD = os.getenv(\"password\")\n",
    "HOST = os.getenv(\"host\")\n",
    "PORT = os.getenv(\"port\")\n",
    "DBNAME = os.getenv(\"dbname\")\n",
    "\n",
    "try:\n",
    "    connection = psycopg2.connect(\n",
    "        user=USER,\n",
    "        password=PASSWORD,\n",
    "        host=HOST,\n",
    "        port=PORT,\n",
    "        dbname=DBNAME\n",
    "    )\n",
    "    cursor = connection.cursor()\n",
    "    print(\"✅ Connection successful!\")\n",
    "\n",
    "    # Cek apakah tabel 'student_stress_level' sudah ada\n",
    "    cursor.execute(\"\"\"\n",
    "        SELECT EXISTS (\n",
    "            SELECT FROM information_schema.tables \n",
    "            WHERE table_name = 'student_stress_level'\n",
    "        );\n",
    "    \"\"\")\n",
    "    table_exists = cursor.fetchone()[0]\n",
    "\n",
    "    if not table_exists:\n",
    "        print(\"ℹ️ Tabel belum ada, membuat tabel baru...\")\n",
    "        cursor.execute(\"\"\"\n",
    "            CREATE TABLE student_stress_level (\n",
    "                id SERIAL PRIMARY KEY,\n",
    "                anxiety_level INT,\n",
    "                self_esteem INT,\n",
    "                mental_health_history INT,\n",
    "                depression INT,\n",
    "                headache INT,\n",
    "                blood_pressure INT,\n",
    "                sleep_quality INT,\n",
    "                breathing_problem INT,\n",
    "                noise_level INT,\n",
    "                living_conditions INT,\n",
    "                safety INT,\n",
    "                basic_needs INT,\n",
    "                academic_performance INT,\n",
    "                study_load INT,\n",
    "                teacher_student_relationship INT,\n",
    "                future_career_concerns INT,\n",
    "                social_support INT,\n",
    "                peer_pressure INT,\n",
    "                extracurricular_activities INT,\n",
    "                bullying INT,\n",
    "                stress_level INT\n",
    "            );\n",
    "        \"\"\")\n",
    "        connection.commit()\n",
    "        print(\"✅ Tabel student_stress_level berhasil dibuat\")\n",
    "\n",
    "    # Import CSV\n",
    "    with open(\"data/StressLevelDataset.csv\", \"r\", encoding=\"utf-8\") as f:\n",
    "        next(f)  # skip header\n",
    "        cursor.copy_from(\n",
    "            f, \n",
    "            \"student_stress_level\", \n",
    "            sep=\",\", \n",
    "            columns=(\n",
    "            \"anxiety_level\",\n",
    "            \"self_esteem\",\n",
    "            \"mental_health_history\",\n",
    "            \"depression\",\n",
    "            \"headache\",\n",
    "            \"blood_pressure\",\n",
    "            \"sleep_quality\",\n",
    "            \"breathing_problem\",\n",
    "            \"noise_level\",\n",
    "            \"living_conditions\",\n",
    "            \"safety\",\n",
    "            \"basic_needs\",\n",
    "            \"academic_performance\",\n",
    "            \"study_load\",\n",
    "            \"teacher_student_relationship\",\n",
    "            \"future_career_concerns\",\n",
    "            \"social_support\",\n",
    "            \"peer_pressure\",\n",
    "            \"extracurricular_activities\",\n",
    "            \"bullying\",\n",
    "            \"stress_level\"\n",
    "        ))\n",
    "\n",
    "    connection.commit()\n",
    "    print(\"✅ Data berhasil diimport ke Supabase\")\n",
    "\n",
    "    cursor.close()\n",
    "    connection.close()\n",
    "\n",
    "except Exception as e:\n",
    "    print(f\"❌ Failed: {e}\")\n"
   ]
  },
  {
   "cell_type": "code",
   "execution_count": null,
   "id": "d911b73d",
   "metadata": {},
   "outputs": [
    {
     "name": "stderr",
     "output_type": "stream",
     "text": [
      "C:\\Users\\risqi\\AppData\\Local\\Temp\\ipykernel_22056\\1676462450.py:10: UserWarning: pandas only supports SQLAlchemy connectable (engine/connection) or database string URI or sqlite3 DBAPI2 connection. Other DBAPI2 objects are not tested. Please consider using SQLAlchemy.\n",
      "  df = pd.read_sql(query, connection)\n"
     ]
    },
    {
     "name": "stdout",
     "output_type": "stream",
     "text": [
      "✅ Data berhasil diambil, jumlah baris 2200\n",
      "   id  anxiety_level  self_esteem  mental_health_history  depression  \\\n",
      "0   1             14           20                      0          11   \n",
      "1   2             15            8                      1          15   \n",
      "2   3             12           18                      1          14   \n",
      "3   4             16           12                      1          15   \n",
      "4   5             16           28                      0           7   \n",
      "\n",
      "   headache  blood_pressure  sleep_quality  breathing_problem  noise_level  \\\n",
      "0         2               1              2                  4            2   \n",
      "1         5               3              1                  4            3   \n",
      "2         2               1              2                  2            2   \n",
      "3         4               3              1                  3            4   \n",
      "4         2               3              5                  1            3   \n",
      "\n",
      "   ...  basic_needs  academic_performance  study_load  \\\n",
      "0  ...            2                     3           2   \n",
      "1  ...            2                     1           4   \n",
      "2  ...            2                     2           3   \n",
      "3  ...            2                     2           4   \n",
      "4  ...            3                     4           3   \n",
      "\n",
      "   teacher_student_relationship  future_career_concerns  social_support  \\\n",
      "0                             3                       3               2   \n",
      "1                             1                       5               1   \n",
      "2                             3                       2               2   \n",
      "3                             1                       4               1   \n",
      "4                             1                       2               1   \n",
      "\n",
      "   peer_pressure  extracurricular_activities  bullying  stress_level  \n",
      "0              3                           3         2             1  \n",
      "1              4                           5         5             2  \n",
      "2              3                           2         2             1  \n",
      "3              4                           4         5             2  \n",
      "4              5                           0         5             1  \n",
      "\n",
      "[5 rows x 22 columns]\n"
     ]
    }
   ],
   "source": [
    "# ================================\n",
    "# 3. Read data from Supabase\n",
    "# ================================\n",
    "\n",
    "try:\n",
    "    connection = psycopg2.connect(\n",
    "        user=USER,\n",
    "        password=PASSWORD,\n",
    "        host=HOST,\n",
    "        port=PORT,\n",
    "        dbname=DBNAME\n",
    "    )\n",
    "    query = 'SELECT * FROM student_stress_level;'\n",
    "    df = pd.read_sql(query, connection)\n",
    "\n",
    "    connection.close()\n",
    "    print(\"✅ Data berhasil diambil, jumlah baris\", len(df))\n",
    "    print(df.head())\n",
    "    \n",
    "except Exception as e:\n",
    "    print(f\"❌ Failed: {e}\")"
   ]
  },
  {
   "cell_type": "markdown",
   "id": "c6a5b06d",
   "metadata": {},
   "source": [
    "📌 Penjelasan:\n",
    "\n",
    "- konek ke database Supabase PostgreSQL menggunakan psycopg2.\n",
    "- Data disimpan dalam pandas DataFrame (df) supaya mudah diolah.\n",
    "- df.head() menampilkan 5 baris pertama.\n",
    "\n",
    "---"
   ]
  },
  {
   "cell_type": "code",
   "execution_count": null,
   "id": "f2c834e2",
   "metadata": {},
   "outputs": [
    {
     "name": "stdout",
     "output_type": "stream",
     "text": [
      "<class 'pandas.core.frame.DataFrame'>\n",
      "RangeIndex: 1100 entries, 0 to 1099\n",
      "Data columns (total 22 columns):\n",
      " #   Column                        Non-Null Count  Dtype\n",
      "---  ------                        --------------  -----\n",
      " 0   id                            1100 non-null   int64\n",
      " 1   anxiety_level                 1100 non-null   int64\n",
      " 2   self_esteem                   1100 non-null   int64\n",
      " 3   mental_health_history         1100 non-null   int64\n",
      " 4   depression                    1100 non-null   int64\n",
      " 5   headache                      1100 non-null   int64\n",
      " 6   blood_pressure                1100 non-null   int64\n",
      " 7   sleep_quality                 1100 non-null   int64\n",
      " 8   breathing_problem             1100 non-null   int64\n",
      " 9   noise_level                   1100 non-null   int64\n",
      " 10  living_conditions             1100 non-null   int64\n",
      " 11  safety                        1100 non-null   int64\n",
      " 12  basic_needs                   1100 non-null   int64\n",
      " 13  academic_performance          1100 non-null   int64\n",
      " 14  study_load                    1100 non-null   int64\n",
      " 15  teacher_student_relationship  1100 non-null   int64\n",
      " 16  future_career_concerns        1100 non-null   int64\n",
      " 17  social_support                1100 non-null   int64\n",
      " 18  peer_pressure                 1100 non-null   int64\n",
      " 19  extracurricular_activities    1100 non-null   int64\n",
      " 20  bullying                      1100 non-null   int64\n",
      " 21  stress_level                  1100 non-null   int64\n",
      "dtypes: int64(22)\n",
      "memory usage: 189.2 KB\n"
     ]
    }
   ],
   "source": [
    "# ================================\n",
    "# 4. Eksplorasi Struktur Data\n",
    "# ================================\n",
    "\n",
    "df.info()"
   ]
  },
  {
   "cell_type": "markdown",
   "id": "b6af0bc9",
   "metadata": {},
   "source": [
    "📌 Penjelasan:\n",
    "\n",
    "- df.info() memberikan info jumlah baris, tipe data, dan kolom.\n",
    "- describe() memberikan statistik (mean, std, min, max, dll).\n",
    "\n",
    "---"
   ]
  },
  {
   "cell_type": "code",
   "execution_count": 17,
   "id": "33dd06f8",
   "metadata": {},
   "outputs": [
    {
     "name": "stdout",
     "output_type": "stream",
     "text": [
      "id                              0\n",
      "anxiety_level                   0\n",
      "self_esteem                     0\n",
      "mental_health_history           0\n",
      "depression                      0\n",
      "headache                        0\n",
      "blood_pressure                  0\n",
      "sleep_quality                   0\n",
      "breathing_problem               0\n",
      "noise_level                     0\n",
      "living_conditions               0\n",
      "safety                          0\n",
      "basic_needs                     0\n",
      "academic_performance            0\n",
      "study_load                      0\n",
      "teacher_student_relationship    0\n",
      "future_career_concerns          0\n",
      "social_support                  0\n",
      "peer_pressure                   0\n",
      "extracurricular_activities      0\n",
      "bullying                        0\n",
      "stress_level                    0\n",
      "dtype: int64\n"
     ]
    }
   ],
   "source": [
    "print(df.isnull().sum())"
   ]
  },
  {
   "cell_type": "markdown",
   "id": "9be33735",
   "metadata": {},
   "source": [
    "📌 Penjelasan:\n",
    "\n",
    "- Penting untuk cek apakah ada missing value.\n",
    "\n",
    "---"
   ]
  },
  {
   "cell_type": "code",
   "execution_count": 24,
   "id": "6b49075e",
   "metadata": {},
   "outputs": [
    {
     "data": {
      "image/png": "[encoded data removed]",
      "text/plain": [
       "<Figure size 600x400 with 1 Axes>"
      ]
     },
     "metadata": {},
     "output_type": "display_data"
    },
    {
     "data": {
      "image/png": "[encoded data removed]",
      "text/plain": [
       "<Figure size 640x480 with 1 Axes>"
      ]
     },
     "metadata": {},
     "output_type": "display_data"
    }
   ],
   "source": [
    "# ================================\n",
    "# 5. Analisis Distribusi Variabel\n",
    "# ================================\n",
    "\n",
    "# Contoh distribusi stress_level\n",
    "df[\"stress_level\"].value_counts().plot(kind=\"bar\", figsize=(6,4), title=\"Distribusi Stress Level\")\n",
    "plt.show()\n",
    "\n",
    "# Contoh distribusi anxiety_level\n",
    "sns.histplot(df[\"anxiety_level\"], bins=10, kde=True)\n",
    "plt.title(\"Distribusi Anxiety Level\")\n",
    "plt.show()"
   ]
  },
  {
   "cell_type": "markdown",
   "id": "0bdf019d",
   "metadata": {},
   "source": [
    "<!-- 📌 Penjelasan:\n",
    "\n",
    "- Visualisasi awal → apakah data seimbang atau ada kelas yang dominan.\n",
    "- Bisa pakai bar chart (untuk kategori) atau histogram (untuk angka).\n",
    "\n",
    "--- -->"
   ]
  }
 ],
 "metadata": {
  "kernelspec": {
   "display_name": "Python 3",
   "language": "python",
   "name": "python3"
  },
  "language_info": {
   "codemirror_mode": {
    "name": "ipython",
    "version": 3
   },
   "file_extension": ".py",
   "mimetype": "text/x-python",
   "name": "python",
   "nbconvert_exporter": "python",
   "pygments_lexer": "ipython3",
   "version": "3.11.9"
  }
 },
 "nbformat": 4,
 "nbformat_minor": 5
}
