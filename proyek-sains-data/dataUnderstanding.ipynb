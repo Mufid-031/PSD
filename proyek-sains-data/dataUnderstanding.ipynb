{
 "cells": [
  {
   "cell_type": "markdown",
   "id": "eb1cf346",
   "metadata": {},
   "source": [
    "# Data Understanding\n",
    "\n",
    "## Apa Itu Data Understanding?\n",
    "\n",
    "**Data Understanding** (Pemahaman Data) adalah tahap kedua dalam metodologi CRISP-DM (Cross-Industry Standard Process for Data Mining) dan merupakan fase kritis dalam siklus hidup data science atau analisis data apa pun. Ini adalah proses mendalam untuk mengenali karakteristik, kualitas, dan pola awal dari data yang telah dikumpulkan sebelum melakukan pemrosesan lebih lanjut, pemodelan, atau pengambilan keputusan.\n",
    "\n",
    "Intinya, Data Understanding adalah upaya untuk \"berkenalan\" dengan data Anda. Seperti seorang detektif yang memeriksa semua bukti sebelum menyelesaikan kasus, seorang analis data harus sepenuhnya memahami data mereka sebelum dapat menarik wawasan yang valid darinya.\n",
    "\n",
    "---"
   ]
  },
  {
   "cell_type": "markdown",
   "id": "f4805072",
   "metadata": {},
   "source": [
    "## Pentingnya Memahami Data yang Kita Ambil\n",
    "\n",
    "Memahami data bukanlah langkah formalitas, tetapi fondasi dari seluruh analisis. Kesalahan dalam memahami data akan berakibat fatal pada tahap selanjutnya.\n",
    "\n",
    "1. Menghindari Kesimpulan yang Salah (Garbage In, Garbage Out): Jika data tidak dipahami dengan benar, model atau analisis yang dihasilkan akan cacat dan kesimpulan yang ditarik bisa menyesatkan.\n",
    "\n",
    "2. Memilih Teknik Analisis yang Tepat: Jenis data yang berbeda (numerik, kategorikal) memerlukan teknik statistik, visualisasi, dan algoritma machine learning yang berbeda. Memahami jenis variabel membantu memilih metode yang tepat.\n",
    "\n",
    "3. Mengidentifikasi Masalah Data Lebih Awal: Tahap ini memungkinkan kita menemukan anomali seperti data yang hilang (missing values), outlier (nilai ekstrem), atau ketidakkonsistenan sejak dini, sehingga dapat ditangani sebelum analisis.\n",
    "\n",
    "4. Membangun Hipotesis yang Bermakna: Dengan mengeksplorasi data, kita dapat mulai melihat pola, hubungan, dan tren yang dapat membentuk pertanyaan penelitian atau hipotesis yang lebih terfokus.\n",
    "\n",
    "5. Mengkomunikasikan Temuan dengan Efektif: Pemahaman yang mendalam tentang data memungkinkan analis untuk menjelaskan hasil dan keterbatasan analisis kepada pemangku kepentingan (stakeholders) dengan lebih jelas dan meyakinkan.\n",
    "\n",
    "---"
   ]
  },
  {
   "cell_type": "markdown",
   "id": "fc6b69ef",
   "metadata": {},
   "source": [
    "## Observasi dari Data dan Jenis-Jenis Variabel\n",
    "\n",
    "Saat pertama kali melihat sebuah dataset, kita melakukan observasi untuk mengidentifikasi jenis setiap variabel (kolom). Klasifikasi variabel sangat penting.\n",
    "\n",
    "---"
   ]
  },
  {
   "cell_type": "markdown",
   "id": "56227abf",
   "metadata": {},
   "source": [
    "## Komponen Utama dalam Data Understanding\n",
    "\n",
    "1. Pengumpulan Data Awal (Initial Data Collection)\n",
    "    - Proses memperoleh data dari berbagai sumber yang telah diidentifikasi pada tahap sebelumnya.\n",
    "    - Membuat data (misalnya, file CSV, Excel, atau koneksi database) ke dalam lingkungan analisis (seperti Python dengan Pandas, R, atau Excel). Membuat inventaris data awal dan mencatat masalah yang terlihat langsung (misalnya, file rusak, format tidak konsisten).\n",
    "\n",
    "2. Deskripsi Data (Data Description)\n",
    "    - Menggambarkan struktur dan kandungan dasar dataset tanpa melakukan analisis mendalam.\n",
    "    - Menghitung Dimensi Data"
   ]
  },
  {
   "cell_type": "code",
   "execution_count": null,
   "id": "6d2d7ab2",
   "metadata": {},
   "outputs": [],
   "source": [
    "# df.shape"
   ]
  },
  {
   "cell_type": "markdown",
   "id": "26ccf090",
   "metadata": {},
   "source": [
    "    - Melihat Beberapa Baris Data"
   ]
  },
  {
   "cell_type": "code",
   "execution_count": null,
   "id": "6c13f0bc",
   "metadata": {},
   "outputs": [],
   "source": [
    "# df.head"
   ]
  },
  {
   "cell_type": "markdown",
   "id": "fe981a4c",
   "metadata": {},
   "source": [
    "    - Melihat Tipe Data Setiap Kolom"
   ]
  },
  {
   "cell_type": "code",
   "execution_count": null,
   "id": "e6097a4f",
   "metadata": {},
   "outputs": [],
   "source": [
    "# df.dtypes"
   ]
  },
  {
   "cell_type": "markdown",
   "id": "6cd2b5bb",
   "metadata": {},
   "source": [
    "    - Melihat Informasi Umum"
   ]
  },
  {
   "cell_type": "code",
   "execution_count": null,
   "id": "2abfdf14",
   "metadata": {},
   "outputs": [],
   "source": [
    "# df.info"
   ]
  },
  {
   "cell_type": "markdown",
   "id": "0b64529a",
   "metadata": {},
   "source": [
    "    - Statistik Deskriptif Dasar"
   ]
  },
  {
   "cell_type": "code",
   "execution_count": null,
   "id": "bf6c0111",
   "metadata": {},
   "outputs": [],
   "source": [
    "# df.describe"
   ]
  },
  {
   "cell_type": "markdown",
   "id": "1bffc9b8",
   "metadata": {},
   "source": [
    "3. Ekplorasi Data (Data Exploration - EDA)\n",
    "    - Proses inti untuk menyelidiki data lebih dalam menggunakan teknik visualisasi dan statistik untuk menemukan pola, hubungan, tren, dan anomali\n",
    "    - "
   ]
  }
 ],
 "metadata": {
  "language_info": {
   "name": "python"
  }
 },
 "nbformat": 4,
 "nbformat_minor": 5
}
