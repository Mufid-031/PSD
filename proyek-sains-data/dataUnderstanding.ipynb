{
 "cells": [
  {
   "cell_type": "markdown",
   "id": "271565f6",
   "metadata": {},
   "source": [
    "## Data Understanding"
   ]
  }
 ],
 "metadata": {
  "language_info": {
   "name": "python"
  }
 },
 "nbformat": 4,
 "nbformat_minor": 5
}
